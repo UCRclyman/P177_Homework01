{
 "cells": [
  {
   "cell_type": "markdown",
   "metadata": {},
   "source": [
    "# Markdown Practice\n",
    "## This is a subheading\n",
    "\n",
    "* This is a list\n",
    "* Instead of editing the forked homework file I'm creating my own\n",
    "* Bush did 9/11\n",
    "\n",
    "**This** *sentence* *is* **false**\n",
    "\n",
    "$E = mc^2$  \n",
    "$2 + 2 = Fish$  "
   ]
  },
  {
   "cell_type": "code",
   "execution_count": 6,
   "metadata": {
    "collapsed": false
   },
   "outputs": [
    {
     "data": {
      "image/jpeg": "[encoded data removed]",
      "text/html": [
       "\n",
       "        <iframe\n",
       "            width=\"400\"\n",
       "            height=\"300\"\n",
       "            src=\"https://www.youtube.com/embed/F-X4SLhorvw\"\n",
       "            frameborder=\"0\"\n",
       "            allowfullscreen\n",
       "        ></iframe>\n",
       "        "
      ],
      "text/plain": [
       "<IPython.lib.display.YouTubeVideo at 0x288627a3c50>"
      ]
     },
     "execution_count": 6,
     "metadata": {},
     "output_type": "execute_result"
    }
   ],
   "source": [
    "from IPython.display import YouTubeVideo  \n",
    "# Look at all those chickens, if you close your eyes its almost like Your Name\n",
    "# Video Credit: Bernforever\n",
    "YouTubeVideo('F-X4SLhorvw')"
   ]
  },
  {
   "cell_type": "markdown",
   "metadata": {},
   "source": [
    "# Simpson's Rule"
   ]
  },
  {
   "cell_type": "code",
   "execution_count": 35,
   "metadata": {
    "collapsed": false
   },
   "outputs": [],
   "source": [
    "def integrator(f,a,b,n):  \n",
    "    \"\"\"This function uses Simpson's rule to integrate quadratics, I don't know how you can use a deltax in the component terms i.e. f,deltax,n instead of f,a,b,n since the function requires a and b in the final formula\"\"\"\n",
    "    deltax = b-a/n  \n",
    "      \n",
    "    oddsum = 0\n",
    "    for i in range(1,n//2 + 1):\n",
    "        oddsum += f(a + (2 * i - 1) * deltax)\n",
    "    oddsum *= 4\n",
    "    \n",
    "    evensum = 0\n",
    "    for i in range(1,n//2):\n",
    "        evensum += f(a + 2 * i * deltax)\n",
    "    evensum *= 2\n",
    "    \n",
    "    total = deltax/3 * (f(a) + f(b) + oddsum + evensum)\n",
    "    return total"
   ]
  },
  {
   "cell_type": "code",
   "execution_count": 15,
   "metadata": {
    "collapsed": true
   },
   "outputs": [],
   "source": [
    "def f(x):\n",
    "    return 3 * (10**-10) * x**2"
   ]
  },
  {
   "cell_type": "code",
   "execution_count": 16,
   "metadata": {
    "collapsed": false,
    "scrolled": true
   },
   "outputs": [
    {
     "data": {
      "text/plain": [
       "3e-10"
      ]
     },
     "execution_count": 16,
     "metadata": {},
     "output_type": "execute_result"
    }
   ],
   "source": [
    "f(1)"
   ]
  },
  {
   "cell_type": "code",
   "execution_count": 40,
   "metadata": {
    "collapsed": false,
    "scrolled": true
   },
   "outputs": [
    {
     "data": {
      "text/plain": [
       "1.81e-08"
      ]
     },
     "execution_count": 40,
     "metadata": {},
     "output_type": "execute_result"
    }
   ],
   "source": [
    "integrator(f,0,1,6)"
   ]
  },
  {
   "cell_type": "markdown",
   "metadata": {},
   "source": [
    "I've written this function like 6 times and I keep getting errors off by decent magnitudes."
   ]
  },
  {
   "cell_type": "markdown",
   "metadata": {},
   "source": [
    "# Rounding Errors\n",
    "\n",
    "that false statment comes from the inverse power of 2. Computers calculate decimals by taking the inverse of the power of two of the number. So 1/3 is calculated as $1/2^1 + 1/2^0$. When it comes to 0.1 + 0.1 + 0.1, the computer is really calulating 1/10 three times which doesnt add up nicely to 0.3. The way I was told is that the computer tries to add decimals with fractions. If you ask it to calculate 0.1 it'll calculate $1/10$ or $1/2^3 + 1/2^1$ which it'll keep repeating the decimal place until it runs out of memory, it'll get as close to 0.1 as it can but it wont be exactly that. When you add three of them together they wont actually be 0.3 but something like 0.299999999999 blah blah blah which to any normal person isn't 0.3. The same thing would happen to any number that cant be easily reduced to some form of 1/2."
   ]
  },
  {
   "cell_type": "code",
   "execution_count": 41,
   "metadata": {
    "collapsed": false
   },
   "outputs": [
    {
     "data": {
      "text/plain": [
       "True"
      ]
     },
     "execution_count": 41,
     "metadata": {},
     "output_type": "execute_result"
    }
   ],
   "source": [
    "import webbrowser\n",
    "webbrowser.open ('http://inspirehep.net')"
   ]
  },
  {
   "cell_type": "code",
   "execution_count": null,
   "metadata": {
    "collapsed": true
   },
   "outputs": [],
   "source": []
  }
 ],
 "metadata": {
  "kernelspec": {
   "display_name": "Python 3",
   "language": "python",
   "name": "python3"
  },
  "language_info": {
   "codemirror_mode": {
    "name": "ipython",
    "version": 3
   },
   "file_extension": ".py",
   "mimetype": "text/x-python",
   "name": "python",
   "nbconvert_exporter": "python",
   "pygments_lexer": "ipython3",
   "version": "3.6.0"
  }
 },
 "nbformat": 4,
 "nbformat_minor": 2
}
